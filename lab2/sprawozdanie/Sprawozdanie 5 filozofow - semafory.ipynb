{
 "cells": [
  {
   "cell_type": "markdown",
   "id": "0b6a812b",
   "metadata": {},
   "source": [
    "# Problem 5 filozofów rozwiązane za pomocą semaforów. Analiza różnych podejść\n",
    "**Paweł Kruczkiewicz**\n",
    "\n",
    "*Treść:*\n",
    "\n",
    "Korzystając z wykonanych implementacji:\n",
    " 1. Uruchom eksperymenty dla różnej liczby filozofów i dla każdego wariantu implementacji (nie powodującego zakleszczenia).\n",
    " 2. Zmierz średni czas oczekiwania każdego filozofa na dostęp do widelców. Wykonaj kilka pomiarów dla każdego przypadku testowego.\n",
    " 3. Wyniki przedstaw na wykresach porównawczych, dbając o odpowiednią wizualizację (można wykorzystać np. wykresy pudełkowe).\n",
    " 4. Sformułuj i zapisz wnioski. Czy średnie czasy oczekiwania są wyższe dla wariantu z możliwością zagłodzenia? Czy brak mechanizmów syn chronizacji zwiększa czas oczekiwania na dostęp do zasobów? (Porównanie Node.js vs. Java może to być trudne do oceny z uwagi na różne środowiska wykonawcze)."
   ]
  },
  {
   "cell_type": "code",
   "execution_count": 2,
   "id": "6cde7536",
   "metadata": {},
   "outputs": [],
   "source": [
    "import os\n",
    "import numpy as np\n",
    "import matplotlib.pyplot as plt"
   ]
  },
  {
   "cell_type": "markdown",
   "id": "aca0af2c",
   "metadata": {},
   "source": [
    "## Ad. 1"
   ]
  },
  {
   "cell_type": "markdown",
   "id": "040d4c35",
   "metadata": {},
   "source": [
    "Programy uruchomiono z modyfikacją - po zakończeniu każdego oczekiwania na pałeczki, wypisywany na ekran jest komunikat z numerem filozofa oraz z czasem oczekiwania (w milisekundach). Program zatrzymuje się, gdy każdy filozof \"zje\" daną liczbę posiłków (w poniższym eksperymencie tą liczbą jest 20). Następnie zapisano wyjście do pliku, zgrepowano. Poniżej przedstawiono program, który parsuje dany plik wynikowy."
   ]
  },
  {
   "cell_type": "code",
   "execution_count": 12,
   "id": "7498ac69",
   "metadata": {},
   "outputs": [],
   "source": [
    "def parse_line(line):\n",
    "    # All numbers are surrounded by hash (eg. \"Philosopher: #2# time: #3022# [ms]\")\n",
    "    splitted_line = line.split(\"#\")\n",
    "    philosopher_number, time_in_ms = int(splitted_line[1]) , int(splitted_line[3]) \n",
    "    return philosopher_number, time_in_ms\n",
    "\n",
    "\n",
    "def filter_and_compute_avg_time(time_tuples, philosopher_number):\n",
    "    filtered_values = list(map(lambda x: x[1], \n",
    "                              (filter(\n",
    "                                lambda tup: tup[0] == philosopher_number,\n",
    "                                time_tuples)\n",
    "                              )))\n",
    "    return sum(filtered_values)/len(filtered_values)\n",
    "\n",
    "def parse_file(filename, n=5, agr_func=filter_and_compute_avg_time):\n",
    "    with open(filename, \"r\") as file:\n",
    "        data = file.readlines()\n",
    "    time_data = list(filter(lambda line: \"time\" in line, data))\n",
    "    time_tuples = [parse_line(data_line) for data_line in time_data]\n",
    "    return [agr_func(time_tuples, i) for i in range(n)]\n",
    "\n"
   ]
  },
  {
   "cell_type": "markdown",
   "id": "6a592874",
   "metadata": {},
   "source": [
    "Funkcja pomocnicza do tworzenia wykresów:"
   ]
  },
  {
   "cell_type": "code",
   "execution_count": 15,
   "id": "72845f87",
   "metadata": {},
   "outputs": [],
   "source": [
    "bar_width = 0.25\n",
    "\n",
    "class BarGroupInformation:\n",
    "    def __init__(self, values, color, label, number):\n",
    "        self.values = values\n",
    "        self.color = color\n",
    "        self.label = label\n",
    "        self.range = np.arange(len(values)) + bar_width*number\n",
    "\n",
    "def create_plot(x_labels, info_list, title):\n",
    "    # Make the plot\n",
    "    [plt.bar(info.range, info.values, color=info.color, label=info.label, width=bar_width)\n",
    "     for info in info_list]\n",
    "    \n",
    "    # Add xticks on the middle of the group bars\n",
    "    plt.xlabel('Philosopher number', fontweight='bold')\n",
    "    plt.xticks([r + bar_width for r in range(len(info_list[0].values))], x_labels)\n",
    "    plt.ylabel(\"Time [ms]\")\n",
    "    # Create legend & Show graphic\n",
    "    \n",
    "    plt.title(title)\n",
    "    plt.legend()\n",
    "    plt.show()"
   ]
  },
  {
   "cell_type": "markdown",
   "id": "c46f3665",
   "metadata": {},
   "source": [
    "## Ad. 2 i Ad. 3\n",
    "### Słowo wstępu\n",
    "Poniżej przedstawiono wyniki eksperymentów (tj. pomiary czasów) dla niemal wszsytkich opisanych w treści zadania implementacji oprócz podejścia naiwnego w JSie - było ono jedynym, które za każdym razem powodowało zakleszczenie.<br> Całość analizy porównawczej podzielono na 2 części wg języka programowania, ponieważ środowiska wykonawcze dla każdego języka znacząco się różnią. <br>\n",
    "### Rozwiązanie naiwne\n",
    "Ponieważ poniżej poświęcono sporo czasu na rozwiązania poprawne, ten fragment zostanie poświęcony rozwiązaniu powodującemu zakleszczenie. W wyniku eksperymentu program napisany w JavaScripcie zawsze \"zawieszał się\" z wynikiem:\n",
    "\n",
    "```\n",
    "Philosopher 0 is thinking\n",
    "Philosopher 1 is thinking\n",
    "Philosopher 2 is thinking\n",
    "Philosopher 3 is thinking\n",
    "Philosopher 4 is thinking\n",
    "Philosopher 0 took the left fork\n",
    "Philosopher 1 took the left fork\n",
    "Philosopher 2 took the left fork\n",
    "Philosopher 3 took the left fork\n",
    "Philosopher 4 took the left fork\n",
    "```\n",
    "\n",
    "Dzieje się tak dlatego, że w pętli for filozofowie odkładani są na stos wywołań zawsze w tej samej kolejności, `timeout` ustawiony jest na ten sam czas, zatem wszyscy filozofowie podnoszą jeden po drugim lewy widelec, zakleszczając program.\n",
    "\n",
    "Do trochę innej sytuacji dochodzi w javie, gdzie kazdy filozof jest osobnym wątkiem. Wtedy niedeterminizm każdego uruchomienia programu sprawia, że czasem nie mamy zakleszczenia, a czasem mamy. W większości uruchomień w trakcie przeprowadzania eksperymentu nie zauważono zakleszczenia, ale zdarzały się sytuacje takie jak przedstawiona poniżej:\n",
    "\n",
    "```\n",
    "(...)\n",
    "Philosopher number 2 has lifted the left fork\n",
    "Philosopher number 4 has stopped thinking\n",
    "Philosopher number 3 has lifted the left fork\n",
    "Philosopher number 0 has lifted the left fork\n",
    "Philosopher number 1 has lifted the left fork\n",
    "Philosopher number 4 has lifted the left fork\n",
    "(...)\n",
    "```\n",
    "\n",
    "... co naturalnie prowadzi do zawieszenia się programu.\n",
    "\n",
    "### Java\n",
    "W zadaniu mieliśmy przetestować 2 alogrytmy: naiwny oraz z kelnerem. Chociaż algorytm naiwny może zakleszczyć się bardzo łatwo (patrz: podpunkt wyżej), tak nie dzieje się to zawsze przy programowaniu wielowątkowym. Dlatego poniżej porównano czas obu tych podejść:"
   ]
  },
  {
   "cell_type": "code",
   "execution_count": 16,
   "id": "f072a790",
   "metadata": {},
   "outputs": [],
   "source": [
    "directory_name = \"czasy\""
   ]
  },
  {
   "cell_type": "code",
   "execution_count": 17,
   "id": "044f31f9",
   "metadata": {},
   "outputs": [
    {
     "data": {
      "image/png": "[encoded data removed]",
      "text/plain": [
       "<Figure size 432x288 with 1 Axes>"
      ]
     },
     "metadata": {
      "needs_background": "light"
     },
     "output_type": "display_data"
    }
   ],
   "source": [
    "\n",
    "# java - 5 filozofów\n",
    "no_referee_time = parse_file(os.path.join(directory_name, \"noReferee.txt\"))\n",
    "referee_time = parse_file(os.path.join(directory_name, \"referee.txt\"))\n",
    "\n",
    "list_of_values = [referee_time, no_referee_time]\n",
    "colors = ['#f5e102', '#00a6ed']\n",
    "labels = [\"Rozwiązanie z kelnerem\", \"Rozwiązanie naiwne\"]\n",
    "numbers = list(range(len(list_of_values)))\n",
    "infos = [BarGroupInformation(values, color, label, number)\n",
    " for values, color, label, number in zip(list_of_values, colors, labels, numbers)]\n",
    "\n",
    "create_plot( [str(num) for num in list(range(5))], infos, \"Problem 5 filozofów - java\")"
   ]
  },
  {
   "cell_type": "markdown",
   "id": "b592db0e",
   "metadata": {},
   "source": [
    "Sprawdzono również, jak zachowa się program, gdy filozofów będzie 10"
   ]
  },
  {
   "cell_type": "code",
   "execution_count": 18,
   "id": "ac061c58",
   "metadata": {},
   "outputs": [
    {
     "data": {
      "image/png": "[encoded data removed]",
      "text/plain": [
       "<Figure size 432x288 with 1 Axes>"
      ]
     },
     "metadata": {
      "needs_background": "light"
     },
     "output_type": "display_data"
    }
   ],
   "source": [
    "# java - 10 filozofów\n",
    "no_referee_time_10 = parse_file(os.path.join(directory_name, \"noReferee10.txt\"), 10)\n",
    "referee_time_10 = parse_file(os.path.join(directory_name, \"referee10.txt\"), 10)\n",
    "\n",
    "list_of_values = [referee_time_10, no_referee_time_10]\n",
    "colors = ['#f5e102', '#00a6ed']\n",
    "labels = [\"Rozwiązanie z kelnerem\", \"Rozwiązanie naiwne\"]\n",
    "numbers = list(range(len(list_of_values)))\n",
    "infos = [BarGroupInformation(values, color, label, number)\n",
    " for values, color, label, number in zip(list_of_values, colors, labels, numbers)]\n",
    "\n",
    "create_plot( [str(num) for num in list(range(10))], infos, \"Problem 10 filozofów - java\")"
   ]
  },
  {
   "cell_type": "markdown",
   "id": "417a1443",
   "metadata": {},
   "source": [
    "Jak można wywnioskować z powyższych wykresów, rozwiązanie z kelnerem, jest nie tylko bezpieczniejszym, ale i szybszym rozwiązaniem. Jednak przewaga tego rozwiązania zmniejsza się znacznie w przypadku większej liczby filozofów."
   ]
  },
  {
   "cell_type": "markdown",
   "id": "ce21b9f7",
   "metadata": {},
   "source": [
    "### JavaScript\n",
    "Rozwiązanie problemu 5 filozofów w JavaScripcie jest zadaniem trudniejszym ze względu na jednowątkowy charakter wykonania programów napisanych w tym języku. W implementacji, aby zapewnić asynchroniczne wykonanie programu, skorzystano z funkcji `setTimeout(func, time)`, która wykonuje daną funkcję `func` dopiero po czasie `time.`\n",
    "\n",
    "Poniżej przedstawiono wyniki dla 3 rozwiązań problemu uctujących filozofów: \n",
    "   1. Rozwiązanie asymetryczne\n",
    "   2. Rozwiązanie z kelnerem\n",
    "   3. Rozwiązanie symultaniczne (czyli jednocześnie podnosimy dwa widelce tylko wtedy, gdy są wolne)\n",
    "   \n",
    "Wykres słupkowy dla 5 stołujących filozofów wygląda tak:"
   ]
  },
  {
   "cell_type": "code",
   "execution_count": 19,
   "id": "77ba5898",
   "metadata": {},
   "outputs": [
    {
     "data": {
      "image/png": "[encoded data removed]",
      "text/plain": [
       "<Figure size 432x288 with 1 Axes>"
      ]
     },
     "metadata": {
      "needs_background": "light"
     },
     "output_type": "display_data"
    }
   ],
   "source": [
    "directory_name = \"czasy/js\"\n",
    "\n",
    "asym_time =  parse_file(os.path.join(directory_name, \"asymetric.txt\"))\n",
    "conductor_time = parse_file(os.path.join(directory_name, \"conductor.txt\"))\n",
    "simultanous_time = parse_file(os.path.join(directory_name, \"simultanous.txt\"))\n",
    "\n",
    "list_of_values = [asym_time, conductor_time, simultanous_time]\n",
    "colors = ['red', 'black', \"green\"]\n",
    "labels = [\"Asymetryczne\", \"Z kelnerem\", \"Symultaniczne\"]\n",
    "numbers = list(range(len(list_of_values)))\n",
    "infos = [BarGroupInformation(values, color, label, number)\n",
    " for values, color, label, number in zip(list_of_values, colors, labels, numbers)]\n",
    "\n",
    "create_plot( [str(num) for num in list(range(5))], infos, \"Problem 5 filozofów - java script\")"
   ]
  },
  {
   "cell_type": "markdown",
   "id": "d0b11226",
   "metadata": {},
   "source": [
    "... a dla 10 tak:"
   ]
  },
  {
   "cell_type": "code",
   "execution_count": 20,
   "id": "744a2abf",
   "metadata": {},
   "outputs": [
    {
     "data": {
      "image/png": "[encoded data removed]",
      "text/plain": [
       "<Figure size 432x288 with 1 Axes>"
      ]
     },
     "metadata": {
      "needs_background": "light"
     },
     "output_type": "display_data"
    }
   ],
   "source": [
    "asym_time_10 =  parse_file(os.path.join(directory_name, \"asymetric_10.txt\"), 10)\n",
    "conductor_time_10 = parse_file(os.path.join(directory_name, \"conductor_10.txt\"), 10)\n",
    "simultanous_time_10 = parse_file(os.path.join(directory_name, \"simultanous_10.txt\"), 10)\n",
    "\n",
    "list_of_values = [asym_time_10, conductor_time_10, simultanous_time_10]\n",
    "colors = ['red', 'black', \"green\"]\n",
    "labels = [\"Asymetryczne\", \"Z kelnerem\", \"Symultaniczne\"]\n",
    "numbers = list(range(len(list_of_values)))\n",
    "infos = [BarGroupInformation(values, color, label, number)\n",
    " for values, color, label, number in zip(list_of_values, colors, labels, numbers)]\n",
    "\n",
    "create_plot( [str(num) for num in list(range(10))], infos, \"Problem 10 filozofów - java script\")"
   ]
  },
  {
   "cell_type": "markdown",
   "id": "84e50589",
   "metadata": {},
   "source": [
    "Oba powyższe wykresy pokazują, że podejście asymetryczne oraz symultaniczne mają zdecydowaną przewagę nad rozwiązaniem z kelnerem.\n",
    "\n",
    "Wszystkie rozwiąznia mają jednak bardzo podobną wadę: każdy z filozofów ze względu na asynchroniczne wykonanie kodu analogiczne do tego, które zaobserwowano w podejściu naiwnym (patrz dwa podpunkty wyżej) wykonywały się niemal zawsze najpierw dla jednego filozofa.\n",
    "\n",
    "Najdrastyczniej widać to na przykładzie 10 filozofów z kelnerem. Poniżej pokazano wartości maksymalne czasu oczekiwania dla każdego filozofa:"
   ]
  },
  {
   "cell_type": "code",
   "execution_count": 26,
   "id": "391fce3e",
   "metadata": {},
   "outputs": [
    {
     "name": "stdout",
     "output_type": "stream",
     "text": [
      "Max waiting time for each philosopher\n",
      "\n",
      "0: 85186 [ms]\n",
      "1: 62459 [ms]\n",
      "2: 60831 [ms]\n",
      "3: 38746 [ms]\n",
      "4: 30353 [ms]\n",
      "5: 28709 [ms]\n",
      "6: 20036 [ms]\n",
      "7: 11425 [ms]\n",
      "8: 43 [ms]\n",
      "9: 90111 [ms]\n"
     ]
    }
   ],
   "source": [
    "def get_max_with_given_number(tuples, number):\n",
    "    return max(map(lambda x: x[1], filter(lambda x: x[0] == number, tuples)))\n",
    "\n",
    "conductor_times_max = parse_file(os.path.join(directory_name, \"conductor_10.txt\"), n=10, agr_func=get_max_with_given_number)\n",
    "\n",
    "print(\"Max waiting time for each philosopher\", end=\"\\n\\n\")\n",
    "for philosopherNum, time in enumerate(conductor_times_max):\n",
    "    print(f'{philosopherNum}: {time} [ms]')"
   ]
  },
  {
   "cell_type": "markdown",
   "id": "b8ac8e2d",
   "metadata": {},
   "source": [
    "Niemal każdy filozof musiał zazwyczaj *czekać* na innego filozofa, aż ten skończy posiłek. Oznacza to, że rozwiązanie problemu 5 filozofów zaimplementowane tak, jak w tym zadaniu, byłoby bardzo złym rozwiązaniem w przypadku nieskończonej liczby posiłków - czasy oczekiwania dla niektórych filozofów zwiększałyby się do nieskończoności, czyli mielibyśmy do czynienia z zagłodzeniem. Jedyny sposób, w jaki można by było to poprawić, to wprowadzić różne czasy oczekiwania na jedzenie i myślenie, co mogłoby doprowadzić do zróżnicowania stosu wywołań interpretatora JSa. \n",
    "\n",
    "Warto też zauważyć, że dla każdego rozwiązania można dla różnej liczby filozofów zobaczyć kilka ciekawych zależności, które wiażą się bezpośrednio z implementacją zadania oraz interpretera JSa:\n",
    "   - w asymetrycznym zawsze drugi i czwarty filozof je najszybciej; proporcje między filozofami o numerach od 0 do 4 są z gubsza takie same dla 5 i 10 filozofów;\n",
    "   - podobną rzecz można zauważyć dla symultanicznego, lecz tam najszybsi są 0 i 2 filozof;\n",
    "   - w rozwiązaniu z kelnerem najszybszy jest filozof przedostatni, potem przedprzedostatni, itd. aż do ostatniego; czas zwiększa się z grubsza liniowo z każdym filozofem w tej sekwencji;\n",
    "   \n",
    "Wyniki z pewnością byłyby bardziej przewidywalne, jeżeli nie użyto by algorytmu BEB. Podobnego determinizmu próżno szukać w wielowątkowych programach."
   ]
  },
  {
   "cell_type": "markdown",
   "id": "10b6593b",
   "metadata": {},
   "source": [
    "## Ad. 4\n",
    "\n",
    "**Wnioski**\n",
    "\n",
    "W niniejszym sprawozdaniu sprawdzono podejście wielowątkowe i asynchroniczne do problemu 5 filozofów na przykładzie języków Java i JavaScript. Podsumowując przedstawione wyżej opisy, można napisać, że:\n",
    "   - warianty z możliwością zagłodzenia mają zdecydowanie wyższe czasy oczekiwania (przykładem jest tutaj kelner zaimplemenrowany w JavaScripcie)\n",
    "   - więcej mechanizmów synchronizacji nie zawsze oznacza dłuższy czas wykonania programu (co pokazano na przykładzie implementacji w języku Java)\n",
    "   - asynchroniczne rozwiązania zapewniają wiekszą kontrolę nad pisanym kodem niz wielowątkowe (są bardziej deterministyczne -  w rozwiązaniach asynchronicznych jedynym \"losowym\" elementem jest algorytm BEB oraz wywoływanie funkcji, w wielowątkowych nie można przewidzieć w pełni, jaki przeplot funkcji atomicznych może się zdarzyć)\n",
    "   \n",
    "   "
   ]
  },
  {
   "cell_type": "code",
   "execution_count": null,
   "id": "6a82aac7",
   "metadata": {},
   "outputs": [],
   "source": []
  }
 ],
 "metadata": {
  "kernelspec": {
   "display_name": "Python 3",
   "language": "python",
   "name": "python3"
  },
  "language_info": {
   "codemirror_mode": {
    "name": "ipython",
    "version": 3
   },
   "file_extension": ".py",
   "mimetype": "text/x-python",
   "name": "python",
   "nbconvert_exporter": "python",
   "pygments_lexer": "ipython3",
   "version": "3.7.6"
  }
 },
 "nbformat": 4,
 "nbformat_minor": 5
}
